{
 "cells": [
  {
   "cell_type": "markdown",
   "source": [
    "# 20.1"
   ],
   "metadata": {
    "collapsed": false,
    "pycharm": {
     "name": "#%% md\n"
    }
   }
  },
  {
   "cell_type": "code",
   "execution_count": 1,
   "outputs": [
    {
     "data": {
      "text/plain": "array([[-1.12541308,  1.96429418],\n       [-1.15329466, -0.50068741],\n       [ 0.29529406, -0.22809346],\n       [ 0.57385917, -0.42335076],\n       [ 1.40955451, -0.81216255]])"
     },
     "execution_count": 1,
     "metadata": {},
     "output_type": "execute_result"
    }
   ],
   "source": [
    "# Load libraries\n",
    "from sklearn import preprocessing\n",
    "import numpy as np\n",
    "\n",
    "# Create feature\n",
    "features = np.array(\n",
    "    [\n",
    "        [-100.1, 3240.1],\n",
    "        [-200.2, -234.1],\n",
    "        [5000.5, 150.1],\n",
    "        [6000.6, -125.1],\n",
    "        [9000.9, -673.1]\n",
    "    ]\n",
    ")\n",
    "\n",
    "# Create scaler\n",
    "scaler = preprocessing.StandardScaler()\n",
    "\n",
    "# Transform the feature\n",
    "features_standardized = scaler.fit_transform(features)\n",
    "\n",
    "# Show feature\n",
    "features_standardized"
   ],
   "metadata": {
    "collapsed": false,
    "pycharm": {
     "name": "#%%\n"
    }
   }
  },
  {
   "cell_type": "code",
   "execution_count": 2,
   "outputs": [
    {
     "name": "stdout",
     "output_type": "stream",
     "text": [
      "Mean:  0\n",
      "Standard deviation:  1\n"
     ]
    }
   ],
   "source": [
    "# Print mean and standard deviation\n",
    "print('Mean: ', round(features_standardized[:,0].mean()))\n",
    "print('Standard deviation: ', round(features_standardized[:,0].std()))"
   ],
   "metadata": {
    "collapsed": false,
    "pycharm": {
     "name": "#%%\n"
    }
   }
  },
  {
   "cell_type": "markdown",
   "source": [
    "# 20.2"
   ],
   "metadata": {
    "collapsed": false,
    "pycharm": {
     "name": "#%% md\n"
    }
   }
  },
  {
   "cell_type": "code",
   "execution_count": 3,
   "outputs": [],
   "source": [
    "import warnings\n",
    "warnings.filterwarnings('ignore')\n",
    "\n",
    "# Load libraries\n",
    "from keras import models\n",
    "from keras import layers\n",
    "\n",
    "# Start neural network\n",
    "network = models.Sequential()\n",
    "\n",
    "# Add fully connected layer with a ReLU activation function\n",
    "network.add(layers.Dense(units=16, activation='relu', input_shape=(10,)))\n",
    "\n",
    "# Add fully connected layer with a ReLU activation function\n",
    "network.add(layers.Dense(units=16, activation='relu'))\n",
    "\n",
    "# Add fully connected layer with a sigmoid activation function\n",
    "network.add(layers.Dense(units=1, activation='sigmoid'))\n",
    "\n",
    "# Compile neural network\n",
    "network.compile(\n",
    "    loss='binary_crossentropy', # Cross-entropy\n",
    "    optimizer='rmsprop', # Root Mean Square Propagation\n",
    "    metrics=['accuracy'] # Accuracy performance metric\n",
    ")"
   ],
   "metadata": {
    "collapsed": false,
    "pycharm": {
     "name": "#%%\n"
    }
   }
  },
  {
   "cell_type": "markdown",
   "source": [
    "# 20.3"
   ],
   "metadata": {
    "collapsed": false,
    "pycharm": {
     "name": "#%% md\n"
    }
   }
  },
  {
   "cell_type": "code",
   "execution_count": 4,
   "outputs": [
    {
     "name": "stdout",
     "output_type": "stream",
     "text": [
      "Downloading data from https://storage.googleapis.com/tensorflow/tf-keras-datasets/imdb.npz\n",
      "17464789/17464789 [==============================] - 3s 0us/step\n",
      "Epoch 1/3\n",
      "250/250 [==============================] - 5s 10ms/step - loss: 0.4226 - accuracy: 0.8125 - val_loss: 0.3324 - val_accuracy: 0.8601\n",
      "Epoch 2/3\n",
      "250/250 [==============================] - 2s 7ms/step - loss: 0.3219 - accuracy: 0.8650 - val_loss: 0.3355 - val_accuracy: 0.8566\n",
      "Epoch 3/3\n",
      "250/250 [==============================] - 2s 7ms/step - loss: 0.3122 - accuracy: 0.8699 - val_loss: 0.3231 - val_accuracy: 0.8611\n"
     ]
    }
   ],
   "source": [
    "# Load libraries\n",
    "import numpy as np\n",
    "from keras. datasets import imdb\n",
    "from keras.preprocessing.text import Tokenizer\n",
    "from keras import models\n",
    "from keras import layers\n",
    "\n",
    "# Set random seed\n",
    "np.random.seed(0)\n",
    "\n",
    "# Set the number of features we want\n",
    "number_of_features = 1000\n",
    "\n",
    "# Load data and target vector from movie review data\n",
    "(data_train, target_train), (data_test, target_test) = imdb.load_data(num_words=number_of_features)\n",
    "\n",
    "# Convert movie review data to one-hot encoded feature matrix\n",
    "tokenizer = Tokenizer(num_words=number_of_features)\n",
    "features_train = tokenizer.sequences_to_matrix(data_train, mode='binary')\n",
    "features_test = tokenizer.sequences_to_matrix(data_test, mode='binary')\n",
    "\n",
    "# Start neural network\n",
    "network = models.Sequential()\n",
    "\n",
    "# Add fully connected layer with a ReLU activation function\n",
    "network.add(layers.Dense(units=16, activation='relu', input_shape=(number_of_features,)))\n",
    "\n",
    "# Add fully connected layer with a ReLU activation function\n",
    "network.add(layers.Dense(units=16, activation='relu'))\n",
    "\n",
    "# Add fully connected layer with a sigmoid activation function\n",
    "network.add(layers.Dense(units=1, activation='sigmoid'))\n",
    "\n",
    "# Compile neural network\n",
    "network.compile(\n",
    "    loss='binary_crossentropy', # Cross-entropy\n",
    "    optimizer='rmsprop', # Root Mean Square Propagation\n",
    "    metrics=['accuracy'] # Accuracy performance metric\n",
    ")\n",
    "\n",
    "# Train neural network\n",
    "history = network.fit(\n",
    "    features_train, # Features\n",
    "    target_train, # Target vector\n",
    "    epochs=3, # Number of epochs\n",
    "    verbose=1, # Print description after each epoch\n",
    "    batch_size=100, # Number of observations per batch\n",
    "    validation_data=(features_test, target_test) # Test data\n",
    ")"
   ],
   "metadata": {
    "collapsed": false,
    "pycharm": {
     "name": "#%%\n"
    }
   }
  },
  {
   "cell_type": "code",
   "execution_count": 5,
   "outputs": [
    {
     "data": {
      "text/plain": "(25000, 1000)"
     },
     "execution_count": 5,
     "metadata": {},
     "output_type": "execute_result"
    }
   ],
   "source": [
    "# View shape of feature matrix\n",
    "features_train.shape"
   ],
   "metadata": {
    "collapsed": false,
    "pycharm": {
     "name": "#%%\n"
    }
   }
  },
  {
   "cell_type": "markdown",
   "source": [
    "# 20.4"
   ],
   "metadata": {
    "collapsed": false,
    "pycharm": {
     "name": "#%% md\n"
    }
   }
  },
  {
   "cell_type": "code",
   "execution_count": 6,
   "outputs": [
    {
     "name": "stdout",
     "output_type": "stream",
     "text": [
      "Downloading data from https://storage.googleapis.com/tensorflow/tf-keras-datasets/reuters.npz\n",
      "2110848/2110848 [==============================] - 9s 4us/step\n"
     ]
    }
   ],
   "source": [
    "# Load libraries\n",
    "import numpy as np\n",
    "from keras. datasets import reuters\n",
    "from keras.utils.np_utils import to_categorical\n",
    "from keras.preprocessing.text import Tokenizer\n",
    "from keras import models\n",
    "from keras import layers\n",
    "\n",
    "# Set random seed\n",
    "np.random.seed(0)\n",
    "\n",
    "# Set the number of features we want\n",
    "number_of_features = 5000\n",
    "\n",
    "# Load feature and target data\n",
    "data = reuters.load_data(num_words=number_of_features)\n",
    "(data_train, target_vector_train), (data_test, target_vector_test) = data\n",
    "\n",
    "# Convert feature data to a one-hot encoded feature matrix\n",
    "tokenizer = Tokenizer(num_words=number_of_features)\n",
    "features_train = tokenizer.sequences_to_matrix(data_train, mode='binary')\n",
    "features_test = tokenizer.sequences_to_matrix(data_test, mode='binary')\n",
    "\n",
    "# One-hot encode target vector to create a target matrix\n",
    "target_train = to_categorical(target_vector_train)\n",
    "target_test = to_categorical(target_vector_test)\n",
    "\n",
    "# Start neural network\n",
    "network = models.Sequential()\n",
    "\n",
    "# Add fully connected layer with a ReLU activation function\n",
    "network.add(layers.Dense(units=100, activation='relu', input_shape=(number_of_features,)))\n",
    "\n",
    "# Add fully connected layer with a ReLU activation function\n",
    "network.add(layers.Dense(units=100, activation='relu'))\n",
    "\n",
    "# Add fully connected layer with a softmax activation function\n",
    "network.add(layers.Dense(units=46, activation='softmax'))\n",
    "\n",
    "# Compile neural network\n",
    "network.compile(\n",
    "    loss='categorical_crossentropy', # Cross-entropy\n",
    "    optimizer='rmsprop', # Root Mean Square Propagation\n",
    "    metrics=['accuracy'] # Accuracy performance metric\n",
    ")\n",
    "\n",
    "# Train neural network\n",
    "history = network.fit(\n",
    "    features_train, # Features\n",
    "    target_train, # Target\n",
    "    epochs=3, # Three epochs\n",
    "    verbose=0, # No output\n",
    "    batch_size=100, # Number of observations per batch\n",
    "    validation_data=(features_test, target_test) # Test data\n",
    ")"
   ],
   "metadata": {
    "collapsed": false,
    "pycharm": {
     "name": "#%%\n"
    }
   }
  },
  {
   "cell_type": "code",
   "execution_count": 7,
   "outputs": [
    {
     "data": {
      "text/plain": "array([[0., 0., 0., ..., 0., 0., 0.],\n       [0., 0., 0., ..., 0., 0., 0.],\n       [0., 0., 0., ..., 0., 0., 0.],\n       ...,\n       [0., 0., 0., ..., 0., 0., 0.],\n       [0., 0., 0., ..., 0., 0., 0.],\n       [0., 0., 0., ..., 0., 0., 0.]], dtype=float32)"
     },
     "execution_count": 7,
     "metadata": {},
     "output_type": "execute_result"
    }
   ],
   "source": [
    "# View target matrix\n",
    "target_train"
   ],
   "metadata": {
    "collapsed": false,
    "pycharm": {
     "name": "#%%\n"
    }
   }
  },
  {
   "cell_type": "markdown",
   "source": [
    "# 20.5"
   ],
   "metadata": {
    "collapsed": false,
    "pycharm": {
     "name": "#%% md\n"
    }
   }
  },
  {
   "cell_type": "code",
   "execution_count": 8,
   "outputs": [],
   "source": [
    "# Load libraries\n",
    "import numpy as np\n",
    "from keras.preprocessing.text import Tokenizer\n",
    "from keras import models\n",
    "from keras import layers\n",
    "from sklearn.datasets import make_regression\n",
    "from sklearn.model_selection import train_test_split\n",
    "from sklearn import preprocessing\n",
    "\n",
    "# Set random seed\n",
    "np.random.seed(0)\n",
    "\n",
    "# Generate features matrix and target vector\n",
    "features, target = make_regression(n_samples=10000, n_features=3, n_informative=3, n_targets=1, noise=0.0, random_state=0)\n",
    "\n",
    "# Divide our data into training and test sets\n",
    "features_train, features_test, target_train, target_test = train_test_split(features, target, test_size=0.33, random_state=0)\n",
    "\n",
    "# Start neural network\n",
    "network = models.Sequential()\n",
    "\n",
    "# Add fully connected layer with a ReLU activation function\n",
    "network.add(layers.Dense(units=32, activation='relu', input_shape=(features_train.shape[1],)))\n",
    "\n",
    "# Add fully connected layer with a ReLU activation function\n",
    "network.add(layers.Dense(units=32, activation='relu'))\n",
    "\n",
    "# Add fully connected layer with no activation function\n",
    "network.add(layers.Dense(units=1))\n",
    "\n",
    "# Compile neural network\n",
    "network.compile(\n",
    "    loss='mse', # Mean squared error\n",
    "    optimizer='RMSprop', # Optimization algorithm\n",
    "    metrics=['mse'] # Mean squared error\n",
    ")\n",
    "\n",
    "# Train neural network\n",
    "history = network.fit(\n",
    "    features_train, # Features\n",
    "    target_train, # Target vector\n",
    "    epochs=10, # Number of epochs\n",
    "    verbose=0, # No output\n",
    "    batch_size=100, # Number of observations per batch\n",
    "    validation_data=(features_test, target_test) # Test data\n",
    ")"
   ],
   "metadata": {
    "collapsed": false,
    "pycharm": {
     "name": "#%%\n"
    }
   }
  },
  {
   "cell_type": "markdown",
   "source": [
    "# 20.6"
   ],
   "metadata": {
    "collapsed": false,
    "pycharm": {
     "name": "#%% md\n"
    }
   }
  },
  {
   "cell_type": "code",
   "execution_count": 10,
   "outputs": [
    {
     "name": "stdout",
     "output_type": "stream",
     "text": [
      "782/782 [==============================] - 2s 2ms/step\n"
     ]
    }
   ],
   "source": [
    "# Load libraries\n",
    "import numpy as np\n",
    "from keras.datasets import imdb\n",
    "from keras.preprocessing.text import Tokenizer\n",
    "from keras import models\n",
    "from keras import layers\n",
    "\n",
    "# Set random seed\n",
    "np.random.seed(0)\n",
    "\n",
    "# Set the number of features we want\n",
    "number_of_features = 1000\n",
    "\n",
    "# Load data and target vector from IMDB movie data\n",
    "(data_train, target_train), (data_test, target_test) = imdb.load_data(num_words=number_of_features)\n",
    "\n",
    "# Convert IMDB data to one-hot encoded feature matrix\n",
    "tokenizer = Tokenizer(num_words=number_of_features)\n",
    "features_train = tokenizer.sequences_to_matrix(data_train, mode='binary')\n",
    "features_test = tokenizer.sequences_to_matrix(data_test, mode='binary')\n",
    "\n",
    "# Start neural network\n",
    "network = models.Sequential()\n",
    "\n",
    "# Add fully connected layer with a ReLU activation function\n",
    "network.add(layers.Dense(units=16, activation='relu', input_shape=(number_of_features,)))\n",
    "\n",
    "# Add fully connected layer with a ReLU activation function\n",
    "network.add(layers.Dense(units=16, activation='relu'))\n",
    "\n",
    "# Add fully connected layer with a sigmoid activation function\n",
    "network.add(layers.Dense(units=1, activation='sigmoid'))\n",
    "\n",
    "# Compile neural network\n",
    "network.compile(\n",
    "    loss='binary_crossentropy', # Cross-entropy\n",
    "    optimizer='rmsprop', # Root Mean Square Propagation\n",
    "    metrics=['accuracy'] # Accuracy performance metric\n",
    ")\n",
    "\n",
    "# Train neural network\n",
    "history = network.fit(\n",
    "    features_train, # Features\n",
    "    target_train, # Target vector\n",
    "    epochs=3, # Number of epochs\n",
    "    verbose=0, # No output\n",
    "    batch_size=100, # Number of observations per batch\n",
    "    validation_data=(features_test, target_test) # Test data\n",
    ")\n",
    "\n",
    "# Predict classes of test set\n",
    "predicted_target = network.predict(features_test)"
   ],
   "metadata": {
    "collapsed": false,
    "pycharm": {
     "name": "#%%\n"
    }
   }
  },
  {
   "cell_type": "code",
   "execution_count": 13,
   "outputs": [
    {
     "data": {
      "text/plain": "array([0.36109686], dtype=float32)"
     },
     "execution_count": 13,
     "metadata": {},
     "output_type": "execute_result"
    }
   ],
   "source": [
    "# View the probability the first observation is class 1\n",
    "predicted_target[0]"
   ],
   "metadata": {
    "collapsed": false,
    "pycharm": {
     "name": "#%%\n"
    }
   }
  },
  {
   "cell_type": "markdown",
   "source": [
    "# 20.7"
   ],
   "metadata": {
    "collapsed": false,
    "pycharm": {
     "name": "#%% md\n"
    }
   }
  },
  {
   "cell_type": "code",
   "execution_count": 18,
   "outputs": [
    {
     "data": {
      "text/plain": "<Figure size 432x288 with 1 Axes>",
      "image/png": "[encoded data removed]"
     },
     "metadata": {
      "needs_background": "light"
     },
     "output_type": "display_data"
    }
   ],
   "source": [
    "# Load libraries\n",
    "import numpy as np\n",
    "from keras.datasets import imdb\n",
    "from keras.preprocessing.text import Tokenizer\n",
    "from keras import models\n",
    "from keras import layers\n",
    "import matplotlib.pyplot as plt\n",
    "\n",
    "# Set random seed\n",
    "np.random.seed(0)\n",
    "\n",
    "# Set the number of features we want\n",
    "number_of_features = 3000\n",
    "\n",
    "# Load data and target vector from movie review data\n",
    "(data_train, target_train), (data_test, target_test) = imdb.load_data(num_words=number_of_features)\n",
    "\n",
    "# Convert movie review data to a one-hot encoded feature matrix\n",
    "tokenizer = Tokenizer(num_words=number_of_features)\n",
    "features_train = tokenizer.sequences_to_matrix(data_train, mode='binary')\n",
    "features_test = tokenizer.sequences_to_matrix(data_test, mode='binary')\n",
    "\n",
    "# Start neural network\n",
    "network = models.Sequential()\n",
    "\n",
    "# Add fully connected layer with a ReLU activation function\n",
    "network.add(layers.Dense(units=16, activation='relu', input_shape=(number_of_features,)))\n",
    "\n",
    "# Add fully connected layer with a ReLU activation function\n",
    "network.add(layers.Dense(units=16, activation='relu'))\n",
    "\n",
    "# Add fully connected layer with a sigmoid activation function\n",
    "network.add(layers.Dense(units=1, activation='sigmoid'))\n",
    "\n",
    "# Compile neural network\n",
    "network.compile(\n",
    "    loss='binary_crossentropy', # Cross-entropy\n",
    "    optimizer='rmsprop', # Root Mean Square Propagation\n",
    "    metrics=['accuracy'] # Accuracy performance metric\n",
    ")\n",
    "\n",
    "# Train neural network\n",
    "history = network.fit(\n",
    "    features_train, # Features\n",
    "    target_train, # Target\n",
    "    epochs=15, # Number of epochs\n",
    "    verbose=0, # No output\n",
    "    batch_size=1000, # Number of observations per batch\n",
    "    validation_data=(features_test, target_test) # Test data\n",
    ")\n",
    "\n",
    "# Get training and test loss histories\n",
    "training_loss = history.history['loss']\n",
    "test_loss = history.history['val_loss']\n",
    "\n",
    "# Create count of the number of epochs\n",
    "epoch_count = range(1, len(training_loss) + 1)\n",
    "\n",
    "# Visualize loss history\n",
    "plt.plot(epoch_count, training_loss, 'r--')\n",
    "plt.plot(epoch_count, test_loss, 'b-')\n",
    "plt.legend(['Training Loss', 'Test Loss'])\n",
    "plt.xlabel('Epoch')\n",
    "plt.ylabel('Loss')\n",
    "plt.show()"
   ],
   "metadata": {
    "collapsed": false,
    "pycharm": {
     "name": "#%%\n"
    }
   }
  },
  {
   "cell_type": "code",
   "execution_count": 20,
   "outputs": [
    {
     "data": {
      "text/plain": "<Figure size 432x288 with 1 Axes>",
      "image/png": "[encoded data removed]"
     },
     "metadata": {
      "needs_background": "light"
     },
     "output_type": "display_data"
    }
   ],
   "source": [
    "# Get training and test accuracy histories\n",
    "training_accuracy = history.history['accuracy']\n",
    "test_accuracy = history.history['val_accuracy']\n",
    "plt.plot(epoch_count, training_accuracy, 'r--')\n",
    "plt.plot(epoch_count, test_accuracy, 'b-')\n",
    "\n",
    "# Visualize accuracy history\n",
    "plt.legend(['Training Accuracy', 'Test Accuracy'])\n",
    "plt.xlabel('Epoch')\n",
    "plt.ylabel('Accuracy Score')\n",
    "plt.show()"
   ],
   "metadata": {
    "collapsed": false,
    "pycharm": {
     "name": "#%%\n"
    }
   }
  },
  {
   "cell_type": "markdown",
   "source": [
    "# 20.8"
   ],
   "metadata": {
    "collapsed": false,
    "pycharm": {
     "name": "#%% md\n"
    }
   }
  },
  {
   "cell_type": "code",
   "execution_count": 21,
   "outputs": [],
   "source": [
    "# Load libraries\n",
    "import numpy as np\n",
    "from keras.datasets import imdb\n",
    "from keras.preprocessing.text import Tokenizer\n",
    "from keras import models\n",
    "from keras import layers\n",
    "from keras import regularizers\n",
    "\n",
    "# Set random seed\n",
    "np.random.seed(0)\n",
    "\n",
    "# Set the number of features we want\n",
    "number_of_features = 1000\n",
    "\n",
    "# Load data and target vector from movie review data\n",
    "(data_train, target_train), (data_test, target_test) = imdb.load_data(num_words=number_of_features)\n",
    "\n",
    "# Convert movie review data to a one-hot encoded feature matrix\n",
    "tokenizer = Tokenizer(num_words=number_of_features)\n",
    "features_train = tokenizer.sequences_to_matrix(data_train, mode='binary')\n",
    "features_test = tokenizer.sequences_to_matrix(data_test, mode='binary')\n",
    "\n",
    "# Start neural network\n",
    "network = models.Sequential()\n",
    "\n",
    "# Add fully connected layer with a ReLU activation function\n",
    "network.add(layers.Dense(units=16, activation='relu', kernel_regularizer=regularizers.l2(0.01), input_shape=(number_of_features,)))\n",
    "\n",
    "# Add fully connected layer with a ReLU activation function\n",
    "network.add(layers.Dense(units=16, kernel_regularizer=regularizers.l2(0.01), activation='relu'))\n",
    "\n",
    "# Add fully connected layer with a sigmoid activation function\n",
    "network.add(layers.Dense(units=1, activation='sigmoid'))\n",
    "\n",
    "# Compile neural network\n",
    "network.compile(\n",
    "    loss='binary_crossentropy', # Cross-entropy\n",
    "    optimizer='rmsprop', # Root Mean Square Propagation\n",
    "    metrics=['accuracy'] # Accuracy performance metric\n",
    ")\n",
    "\n",
    "# Train neural network\n",
    "history = network.fit(\n",
    "    features_train, # Features\n",
    "    target_train, # Target vector\n",
    "    epochs=3, # Number of epochs\n",
    "    verbose=0, # No output\n",
    "    batch_size=100, # Number of observations per batch\n",
    "    validation_data=(features_test, target_test) # Test data\n",
    ")"
   ],
   "metadata": {
    "collapsed": false,
    "pycharm": {
     "name": "#%%\n"
    }
   }
  },
  {
   "cell_type": "markdown",
   "source": [
    "# 20.9"
   ],
   "metadata": {
    "collapsed": false,
    "pycharm": {
     "name": "#%% md\n"
    }
   }
  },
  {
   "cell_type": "code",
   "execution_count": 2,
   "outputs": [],
   "source": [
    "import warnings\n",
    "warnings.filterwarnings('ignore')\n",
    "\n",
    "# Load libraries\n",
    "import numpy as np\n",
    "from keras.datasets import imdb\n",
    "from keras.preprocessing.text import Tokenizer\n",
    "from keras import models\n",
    "from keras import layers\n",
    "from keras.callbacks import EarlyStopping, ModelCheckpoint\n",
    "\n",
    "# Set random seed\n",
    "np.random.seed(0)\n",
    "\n",
    "# Set the number of features we want\n",
    "number_of_features = 1000\n",
    "\n",
    "# Load data and target vector from movie review data\n",
    "(data_train, target_train), (data_test, target_test) = imdb.load_data(num_words=number_of_features)\n",
    "\n",
    "# Convert movie review data to a one-hot encoded feature matrix\n",
    "tokenizer = Tokenizer(num_words=number_of_features)\n",
    "features_train = tokenizer.sequences_to_matrix(data_train, mode='binary')\n",
    "features_test = tokenizer.sequences_to_matrix(data_test, mode='binary')\n",
    "\n",
    "# Start neural network\n",
    "network = models.Sequential()\n",
    "\n",
    "# Add fully connected layer with a ReLU activation function\n",
    "network.add(layers.Dense(units=16, activation='relu', input_shape=(number_of_features,)))\n",
    "\n",
    "# Add fully connected layer with a ReLU activation function\n",
    "network.add(layers.Dense(units=16, activation='relu'))\n",
    "\n",
    "# Add fully connected layer with a sigmoid activation function\n",
    "network.add(layers.Dense(units=1, activation='sigmoid'))\n",
    "\n",
    "# Compile neural network\n",
    "network.compile(\n",
    "    loss='binary_crossentropy', # Cross-entropy\n",
    "    optimizer='rmsprop', # Root Mean Square Propagation\n",
    "    metrics=['accuracy'] # Accuracy performance metric\n",
    ")\n",
    "\n",
    "# Set callback functions to early stop training and save the best model so far\n",
    "callbacks = [\n",
    "    EarlyStopping(monitor='val_loss', patience=2),\n",
    "    ModelCheckpoint(filepath='best_model.h5', monitor='val_loss', save_best_only=True)\n",
    "]\n",
    "\n",
    "# Train neural network\n",
    "history = network.fit(\n",
    "    features_train, # Features\n",
    "    target_train, # Target vector\n",
    "    epochs=20, # Number of epochs\n",
    "    callbacks=callbacks, # Early stopping\n",
    "    verbose=0, # Print description after each epoch\n",
    "    batch_size=100, # Number of observations per batch\n",
    "    validation_data=(features_test, target_test) # Test data\n",
    ")"
   ],
   "metadata": {
    "collapsed": false,
    "pycharm": {
     "name": "#%%\n"
    }
   }
  },
  {
   "cell_type": "markdown",
   "source": [
    "# 20.10"
   ],
   "metadata": {
    "collapsed": false,
    "pycharm": {
     "name": "#%% md\n"
    }
   }
  },
  {
   "cell_type": "code",
   "execution_count": 3,
   "outputs": [],
   "source": [
    "# Load libraries\n",
    "import numpy as np\n",
    "from keras.datasets import imdb\n",
    "from keras.preprocessing.text import Tokenizer\n",
    "from keras import models\n",
    "from keras import layers\n",
    "\n",
    "# Set random seed\n",
    "np.random.seed(0)\n",
    "\n",
    "# Set the number of features we want\n",
    "number_of_features = 1000\n",
    "\n",
    "# Load data and target vector from movie review data\n",
    "(data_train, target_train), (data_test, target_test) = imdb.load_data(num_words=number_of_features)\n",
    "\n",
    "# Convert movie review data to a one-hot encoded feature matrix\n",
    "tokenizer = Tokenizer(num_words=number_of_features)\n",
    "features_train = tokenizer.sequences_to_matrix(data_train, mode='binary')\n",
    "features_test = tokenizer.sequences_to_matrix(data_test, mode='binary')\n",
    "\n",
    "# Start neural network\n",
    "network = models.Sequential()\n",
    "\n",
    "# add a dropout layer for input layer\n",
    "network.add(layers.Dropout(0.2, input_shape=(number_of_features,)))\n",
    "\n",
    "# Add fully connected layer with a ReLU activation function\n",
    "network.add(layers.Dense(units=16, activation='relu'))\n",
    "\n",
    "# Add a dropout layer for previous hidden layer\n",
    "network.add(layers.Dropout(0.5))\n",
    "\n",
    "# Add fully connected layer with a ReLU activation function\n",
    "network.add(layers.Dense(units=16, activation='relu'))\n",
    "\n",
    "# Add a dropout layer for previous hidden layer\n",
    "network.add(layers.Dropout(0.5))\n",
    "\n",
    "# Add fully connected layer with a sigmoid activation function\n",
    "network.add(layers.Dense(units=1, activation='sigmoid'))\n",
    "\n",
    "# Compile neural network\n",
    "network.compile(\n",
    "    loss='binary_crossentropy', # Cross-entropy\n",
    "    optimizer='rmsprop', # Root Mean Square Propagation\n",
    "    metrics=['accuracy'] # Accuracy performance metric\n",
    ")\n",
    "\n",
    "# Train neural network\n",
    "history = network.fit(\n",
    "    features_train, # Features\n",
    "    target_train, # Target vector\n",
    "    epochs=3, # Number of epochs\n",
    "    verbose=0, # No output\n",
    "    batch_size=100, # Number of observations per batch\n",
    "    validation_data=(features_test, target_test) # Test data\n",
    ")"
   ],
   "metadata": {
    "collapsed": false,
    "pycharm": {
     "name": "#%%\n"
    }
   }
  },
  {
   "cell_type": "markdown",
   "source": [
    "# 20.11"
   ],
   "metadata": {
    "collapsed": false,
    "pycharm": {
     "name": "#%% md\n"
    }
   }
  },
  {
   "cell_type": "code",
   "execution_count": 4,
   "outputs": [],
   "source": [
    "# Load libraries\n",
    "import numpy as np\n",
    "from keras.datasets import imdb\n",
    "from keras.preprocessing.text import Tokenizer\n",
    "from keras import models\n",
    "from keras import layers\n",
    "from keras.callbacks import ModelCheckpoint\n",
    "\n",
    "# Set random seed\n",
    "np.random.seed(0)\n",
    "\n",
    "# Set the number of features we want\n",
    "number_of_features = 1000\n",
    "\n",
    "# Load data and target vector from movie review data\n",
    "(data_train, target_train), (data_test, target_test) = imdb.load_data(num_words=number_of_features)\n",
    "\n",
    "# Convert movie review data to a one-hot encoded feature matrix\n",
    "tokenizer = Tokenizer(num_words=number_of_features)\n",
    "features_train = tokenizer.sequences_to_matrix(data_train, mode='binary')\n",
    "features_test = tokenizer.sequences_to_matrix(data_test, mode='binary')\n",
    "\n",
    "# Start neural network\n",
    "network = models.Sequential()\n",
    "\n",
    "# Add fully connected layer with a ReLU activation function\n",
    "network.add(layers.Dense(units=16, activation='relu', input_shape=(number_of_features,)))\n",
    "\n",
    "# Add fully connected layer with a ReLU activation function\n",
    "network.add(layers.Dense(units=16, activation='relu'))\n",
    "\n",
    "# Add fully connected layer with a sigmoid activation function\n",
    "network.add(layers.Dense(units=1, activation='sigmoid'))\n",
    "\n",
    "# Compile neural network\n",
    "network.compile(\n",
    "    loss='binary_crossentropy', # Cross-entropy\n",
    "    optimizer='rmsprop', # Root Mean Square Propagation\n",
    "    metrics=['accuracy'] # Accuracy performance metric\n",
    ")\n",
    "\n",
    "# Set callback functions to early stop training and save the best model so far\n",
    "checkpoint = [\n",
    "    ModelCheckpoint(filepath='best_model.hdf5')\n",
    "]\n",
    "\n",
    "# Train neural network\n",
    "history = network.fit(\n",
    "    features_train, # Features\n",
    "    target_train, # Target vector\n",
    "    epochs=3, # Number of epochs\n",
    "    callbacks=checkpoint, # Checkpoint\n",
    "    verbose=0, # No output\n",
    "    batch_size=100, # Number of observations per batch\n",
    "    validation_data=(features_test, target_test) # Test data\n",
    ")"
   ],
   "metadata": {
    "collapsed": false,
    "pycharm": {
     "name": "#%%\n"
    }
   }
  },
  {
   "cell_type": "markdown",
   "source": [
    "# 20.12"
   ],
   "metadata": {
    "collapsed": false,
    "pycharm": {
     "name": "#%% md\n"
    }
   }
  },
  {
   "cell_type": "code",
   "execution_count": 9,
   "outputs": [
    {
     "data": {
      "text/plain": "array([0.89232153, 0.88628864, 0.87188721])"
     },
     "execution_count": 9,
     "metadata": {},
     "output_type": "execute_result"
    }
   ],
   "source": [
    "# Load libraries\n",
    "import numpy as np\n",
    "from keras import models\n",
    "from keras import layers\n",
    "from keras.wrappers.scikit_learn import KerasClassifier\n",
    "from sklearn.model_selection import cross_val_score\n",
    "from sklearn.datasets import make_classification\n",
    "\n",
    "# Set random seed\n",
    "np.random.seed(0)\n",
    "\n",
    "# Number of features\n",
    "number_of_features = 100\n",
    "\n",
    "# Generate features matrix and target vector\n",
    "features, target = make_classification(\n",
    "    n_samples=10000, n_features=number_of_features, n_informative=3, n_redundant=0, n_classes=2, weights=[.5,.5], random_state=0\n",
    ")\n",
    "\n",
    "# Create function returning a compiled network\n",
    "def create_network():\n",
    "\n",
    "    # Start neural network\n",
    "    network = models.Sequential()\n",
    "\n",
    "    # Add fully connected layer with a ReLU activation function\n",
    "    network.add(layers.Dense(units=16, activation='relu', input_shape=(number_of_features,)))\n",
    "\n",
    "    # Add fully connected layer with a ReLU activation function\n",
    "    network.add(layers.Dense(units=16, activation='relu'))\n",
    "\n",
    "    # Add fully connected layer with a sigmoid activation function\n",
    "    network.add(layers.Dense(units=1, activation='sigmoid'))\n",
    "\n",
    "    # Compile neural network\n",
    "    network.compile(\n",
    "        loss='binary_crossentropy', # Cross-entropy\n",
    "        optimizer='rmsprop', # Root Mean Square Propagation\n",
    "        metrics=['accuracy'] # Accuracy performance metric\n",
    "    )\n",
    "\n",
    "    # Return compiled network\n",
    "    return network\n",
    "\n",
    "# Wrap Keras model so it can be used by scikit-learn\n",
    "neural_network = KerasClassifier(build_fn=create_network, epochs=10, batch_size=100, verbose=0)\n",
    "\n",
    "# Evaluate neural network using three-fold cross-validation\n",
    "cross_val_score(neural_network, features, target, cv=3)"
   ],
   "metadata": {
    "collapsed": false,
    "pycharm": {
     "name": "#%%\n"
    }
   }
  },
  {
   "cell_type": "markdown",
   "source": [
    "# 20.13"
   ],
   "metadata": {
    "collapsed": false,
    "pycharm": {
     "name": "#%% md\n"
    }
   }
  },
  {
   "cell_type": "code",
   "execution_count": 10,
   "outputs": [],
   "source": [
    "# Load libraries\n",
    "import numpy as np\n",
    "from keras import models\n",
    "from keras import layers\n",
    "from keras.wrappers.scikit_learn import KerasClassifier\n",
    "from sklearn.model_selection import GridSearchCV\n",
    "from sklearn.datasets import make_classification\n",
    "\n",
    "# Set random seed\n",
    "np.random.seed(0)\n",
    "\n",
    "# Number of features\n",
    "number_of_features = 100\n",
    "\n",
    "# Generate features matrix and target vector\n",
    "features, target = make_classification(\n",
    "    n_samples=10000, n_features=number_of_features, n_informative=3, n_redundant=0, n_classes=2, weights=[.5,.5], random_state=0\n",
    ")\n",
    "\n",
    "# Create function returning a compiled network\n",
    "def create_network(optimizer='rmsprop'):\n",
    "\n",
    "    # Start neural network\n",
    "    network = models.Sequential()\n",
    "\n",
    "    # Add fully connected layer with a ReLU activation function\n",
    "    network.add(layers.Dense(units=16, activation='relu', input_shape=(number_of_features,)))\n",
    "\n",
    "    # Add fully connected layer with a ReLU activation function\n",
    "    network.add(layers.Dense(units=16, activation='relu'))\n",
    "\n",
    "    # Add fully connected layer with a sigmoid activation function\n",
    "    network.add(layers.Dense(units=1, activation='sigmoid'))\n",
    "\n",
    "    # Compile neural network\n",
    "    network.compile(\n",
    "        loss='binary_crossentropy', # Cross-entropy\n",
    "        optimizer=optimizer, # Optimizer\n",
    "        metrics=['accuracy'] # Accuracy performance metric\n",
    "    )\n",
    "\n",
    "    # Return compiled network\n",
    "    return network\n",
    "\n",
    "# Wrap Keras model so it can be used by scikit-learn\n",
    "neural_network = KerasClassifier(build_fn=create_network, verbose=0)\n",
    "\n",
    "# Create hyperparameter space\n",
    "epochs = [5,10]\n",
    "batches = [5,10,100]\n",
    "optimizers = ['rmsprop', 'adam']\n",
    "\n",
    "# Create hyperparameter options\n",
    "hyperparameters = dict(optimizer=optimizers, epochs=epochs, batch_size=batches)\n",
    "\n",
    "# Crete grid search\n",
    "grid = GridSearchCV(estimator=neural_network, param_grid=hyperparameters)\n",
    "\n",
    "# Fit grid search\n",
    "grid_result = grid.fit(features, target)"
   ],
   "metadata": {
    "collapsed": false,
    "pycharm": {
     "name": "#%%\n"
    }
   }
  },
  {
   "cell_type": "code",
   "execution_count": 11,
   "outputs": [
    {
     "data": {
      "text/plain": "{'batch_size': 10, 'epochs': 5, 'optimizer': 'adam'}"
     },
     "execution_count": 11,
     "metadata": {},
     "output_type": "execute_result"
    }
   ],
   "source": [
    "# View hyperparameters of best neural network\n",
    "grid_result.best_params_"
   ],
   "metadata": {
    "collapsed": false,
    "pycharm": {
     "name": "#%%\n"
    }
   }
  },
  {
   "cell_type": "markdown",
   "source": [
    "# 20.14"
   ],
   "metadata": {
    "collapsed": false,
    "pycharm": {
     "name": "#%% md\n"
    }
   }
  },
  {
   "cell_type": "code",
   "execution_count": 12,
   "outputs": [
    {
     "data": {
      "text/plain": "<IPython.core.display.SVG object>",
      "image/svg+xml": "<svg xmlns=\"http://www.w3.org/2000/svg\" xmlns:xlink=\"http://www.w3.org/1999/xlink\" width=\"420pt\" height=\"405pt\" viewBox=\"0.00 0.00 315.00 304.00\">\n<g id=\"graph0\" class=\"graph\" transform=\"scale(0.75 0.75) rotate(0) translate(4 300)\">\n<title>G</title>\n<polygon fill=\"white\" stroke=\"transparent\" points=\"-4,4 -4,-300 311,-300 311,4 -4,4\"/>\n<!-- 140330945505552 -->\n<g id=\"node1\" class=\"node\">\n<title>140330945505552</title>\n<polygon fill=\"none\" stroke=\"black\" points=\"0,-249.5 0,-295.5 307,-295.5 307,-249.5 0,-249.5\"/>\n<text text-anchor=\"middle\" x=\"68.5\" y=\"-280.3\" font-family=\"Times,serif\" font-size=\"14.00\">dense_224_input</text>\n<polyline fill=\"none\" stroke=\"black\" points=\"0,-272.5 137,-272.5 \"/>\n<text text-anchor=\"middle\" x=\"68.5\" y=\"-257.3\" font-family=\"Times,serif\" font-size=\"14.00\">InputLayer</text>\n<polyline fill=\"none\" stroke=\"black\" points=\"137,-249.5 137,-295.5 \"/>\n<text text-anchor=\"middle\" x=\"171\" y=\"-280.3\" font-family=\"Times,serif\" font-size=\"14.00\">input:</text>\n<polyline fill=\"none\" stroke=\"black\" points=\"137,-272.5 205,-272.5 \"/>\n<text text-anchor=\"middle\" x=\"171\" y=\"-257.3\" font-family=\"Times,serif\" font-size=\"14.00\">output:</text>\n<polyline fill=\"none\" stroke=\"black\" points=\"205,-249.5 205,-295.5 \"/>\n<text text-anchor=\"middle\" x=\"256\" y=\"-280.3\" font-family=\"Times,serif\" font-size=\"14.00\">[(None, 10)]</text>\n<polyline fill=\"none\" stroke=\"black\" points=\"205,-272.5 307,-272.5 \"/>\n<text text-anchor=\"middle\" x=\"256\" y=\"-257.3\" font-family=\"Times,serif\" font-size=\"14.00\">[(None, 10)]</text>\n</g>\n<!-- 140330945503872 -->\n<g id=\"node2\" class=\"node\">\n<title>140330945503872</title>\n<polygon fill=\"none\" stroke=\"black\" points=\"27.5,-166.5 27.5,-212.5 279.5,-212.5 279.5,-166.5 27.5,-166.5\"/>\n<text text-anchor=\"middle\" x=\"73.5\" y=\"-197.3\" font-family=\"Times,serif\" font-size=\"14.00\">dense_224</text>\n<polyline fill=\"none\" stroke=\"black\" points=\"27.5,-189.5 119.5,-189.5 \"/>\n<text text-anchor=\"middle\" x=\"73.5\" y=\"-174.3\" font-family=\"Times,serif\" font-size=\"14.00\">Dense</text>\n<polyline fill=\"none\" stroke=\"black\" points=\"119.5,-166.5 119.5,-212.5 \"/>\n<text text-anchor=\"middle\" x=\"153.5\" y=\"-197.3\" font-family=\"Times,serif\" font-size=\"14.00\">input:</text>\n<polyline fill=\"none\" stroke=\"black\" points=\"119.5,-189.5 187.5,-189.5 \"/>\n<text text-anchor=\"middle\" x=\"153.5\" y=\"-174.3\" font-family=\"Times,serif\" font-size=\"14.00\">output:</text>\n<polyline fill=\"none\" stroke=\"black\" points=\"187.5,-166.5 187.5,-212.5 \"/>\n<text text-anchor=\"middle\" x=\"233.5\" y=\"-197.3\" font-family=\"Times,serif\" font-size=\"14.00\">(None, 10)</text>\n<polyline fill=\"none\" stroke=\"black\" points=\"187.5,-189.5 279.5,-189.5 \"/>\n<text text-anchor=\"middle\" x=\"233.5\" y=\"-174.3\" font-family=\"Times,serif\" font-size=\"14.00\">(None, 16)</text>\n</g>\n<!-- 140330945505552&#45;&gt;140330945503872 -->\n<g id=\"edge1\" class=\"edge\">\n<title>140330945505552-&gt;140330945503872</title>\n<path fill=\"none\" stroke=\"black\" d=\"M153.5,-249.37C153.5,-241.15 153.5,-231.66 153.5,-222.73\"/>\n<polygon fill=\"black\" stroke=\"black\" points=\"157,-222.61 153.5,-212.61 150,-222.61 157,-222.61\"/>\n</g>\n<!-- 140330945505648 -->\n<g id=\"node3\" class=\"node\">\n<title>140330945505648</title>\n<polygon fill=\"none\" stroke=\"black\" points=\"27.5,-83.5 27.5,-129.5 279.5,-129.5 279.5,-83.5 27.5,-83.5\"/>\n<text text-anchor=\"middle\" x=\"73.5\" y=\"-114.3\" font-family=\"Times,serif\" font-size=\"14.00\">dense_225</text>\n<polyline fill=\"none\" stroke=\"black\" points=\"27.5,-106.5 119.5,-106.5 \"/>\n<text text-anchor=\"middle\" x=\"73.5\" y=\"-91.3\" font-family=\"Times,serif\" font-size=\"14.00\">Dense</text>\n<polyline fill=\"none\" stroke=\"black\" points=\"119.5,-83.5 119.5,-129.5 \"/>\n<text text-anchor=\"middle\" x=\"153.5\" y=\"-114.3\" font-family=\"Times,serif\" font-size=\"14.00\">input:</text>\n<polyline fill=\"none\" stroke=\"black\" points=\"119.5,-106.5 187.5,-106.5 \"/>\n<text text-anchor=\"middle\" x=\"153.5\" y=\"-91.3\" font-family=\"Times,serif\" font-size=\"14.00\">output:</text>\n<polyline fill=\"none\" stroke=\"black\" points=\"187.5,-83.5 187.5,-129.5 \"/>\n<text text-anchor=\"middle\" x=\"233.5\" y=\"-114.3\" font-family=\"Times,serif\" font-size=\"14.00\">(None, 16)</text>\n<polyline fill=\"none\" stroke=\"black\" points=\"187.5,-106.5 279.5,-106.5 \"/>\n<text text-anchor=\"middle\" x=\"233.5\" y=\"-91.3\" font-family=\"Times,serif\" font-size=\"14.00\">(None, 16)</text>\n</g>\n<!-- 140330945503872&#45;&gt;140330945505648 -->\n<g id=\"edge2\" class=\"edge\">\n<title>140330945503872-&gt;140330945505648</title>\n<path fill=\"none\" stroke=\"black\" d=\"M153.5,-166.37C153.5,-158.15 153.5,-148.66 153.5,-139.73\"/>\n<polygon fill=\"black\" stroke=\"black\" points=\"157,-139.61 153.5,-129.61 150,-139.61 157,-139.61\"/>\n</g>\n<!-- 140330903849664 -->\n<g id=\"node4\" class=\"node\">\n<title>140330903849664</title>\n<polygon fill=\"none\" stroke=\"black\" points=\"27.5,-0.5 27.5,-46.5 279.5,-46.5 279.5,-0.5 27.5,-0.5\"/>\n<text text-anchor=\"middle\" x=\"73.5\" y=\"-31.3\" font-family=\"Times,serif\" font-size=\"14.00\">dense_226</text>\n<polyline fill=\"none\" stroke=\"black\" points=\"27.5,-23.5 119.5,-23.5 \"/>\n<text text-anchor=\"middle\" x=\"73.5\" y=\"-8.3\" font-family=\"Times,serif\" font-size=\"14.00\">Dense</text>\n<polyline fill=\"none\" stroke=\"black\" points=\"119.5,-0.5 119.5,-46.5 \"/>\n<text text-anchor=\"middle\" x=\"153.5\" y=\"-31.3\" font-family=\"Times,serif\" font-size=\"14.00\">input:</text>\n<polyline fill=\"none\" stroke=\"black\" points=\"119.5,-23.5 187.5,-23.5 \"/>\n<text text-anchor=\"middle\" x=\"153.5\" y=\"-8.3\" font-family=\"Times,serif\" font-size=\"14.00\">output:</text>\n<polyline fill=\"none\" stroke=\"black\" points=\"187.5,-0.5 187.5,-46.5 \"/>\n<text text-anchor=\"middle\" x=\"233.5\" y=\"-31.3\" font-family=\"Times,serif\" font-size=\"14.00\">(None, 16)</text>\n<polyline fill=\"none\" stroke=\"black\" points=\"187.5,-23.5 279.5,-23.5 \"/>\n<text text-anchor=\"middle\" x=\"233.5\" y=\"-8.3\" font-family=\"Times,serif\" font-size=\"14.00\">(None, 1)</text>\n</g>\n<!-- 140330945505648&#45;&gt;140330903849664 -->\n<g id=\"edge3\" class=\"edge\">\n<title>140330945505648-&gt;140330903849664</title>\n<path fill=\"none\" stroke=\"black\" d=\"M153.5,-83.37C153.5,-75.15 153.5,-65.66 153.5,-56.73\"/>\n<polygon fill=\"black\" stroke=\"black\" points=\"157,-56.61 153.5,-46.61 150,-56.61 157,-56.61\"/>\n</g>\n</g>\n</svg>"
     },
     "execution_count": 12,
     "metadata": {},
     "output_type": "execute_result"
    }
   ],
   "source": [
    "# Load libraries\n",
    "from keras import models\n",
    "from keras import layers\n",
    "from IPython.display import SVG\n",
    "from keras.utils.vis_utils import model_to_dot\n",
    "from keras.utils import plot_model\n",
    "\n",
    "# Start neural network\n",
    "network = models.Sequential()\n",
    "\n",
    "# Add fully connected layer with a ReLU activation function\n",
    "network.add(layers.Dense(units=16, activation='relu', input_shape=(10,)))\n",
    "\n",
    "# Add fully connected layer with a ReLU activation function\n",
    "network.add(layers.Dense(units=16, activation='relu'))\n",
    "\n",
    "# Add fully connected layer with a sigmoid activation function\n",
    "network.add(layers.Dense(units=1, activation='sigmoid'))\n",
    "\n",
    "# visualize network architecture\n",
    "SVG(model_to_dot(network, show_shapes=True).create(prog='dot', format='svg'))"
   ],
   "metadata": {
    "collapsed": false,
    "pycharm": {
     "name": "#%%\n"
    }
   }
  },
  {
   "cell_type": "code",
   "execution_count": 13,
   "outputs": [
    {
     "data": {
      "image/png": "[encoded data removed]",
      "text/plain": "<IPython.core.display.Image object>"
     },
     "execution_count": 13,
     "metadata": {},
     "output_type": "execute_result"
    }
   ],
   "source": [
    "# Save the visualization as a file\n",
    "plot_model(network, show_shapes=True, to_file='network.png')"
   ],
   "metadata": {
    "collapsed": false,
    "pycharm": {
     "name": "#%%\n"
    }
   }
  },
  {
   "cell_type": "code",
   "execution_count": 14,
   "outputs": [
    {
     "data": {
      "text/plain": "<IPython.core.display.SVG object>",
      "image/svg+xml": "<svg xmlns=\"http://www.w3.org/2000/svg\" xmlns:xlink=\"http://www.w3.org/1999/xlink\" width=\"320pt\" height=\"352pt\" viewBox=\"0.00 0.00 240.00 264.00\">\n<g id=\"graph0\" class=\"graph\" transform=\"scale(0.75 0.75) rotate(0) translate(4 260)\">\n<title>G</title>\n<polygon fill=\"white\" stroke=\"transparent\" points=\"-4,4 -4,-260 236,-260 236,4 -4,4\"/>\n<!-- 140330945505552 -->\n<g id=\"node1\" class=\"node\">\n<title>140330945505552</title>\n<polygon fill=\"none\" stroke=\"black\" points=\"0,-219.5 0,-255.5 232,-255.5 232,-219.5 0,-219.5\"/>\n<text text-anchor=\"middle\" x=\"68.5\" y=\"-233.8\" font-family=\"Times,serif\" font-size=\"14.00\">dense_224_input</text>\n<polyline fill=\"none\" stroke=\"black\" points=\"137,-219.5 137,-255.5 \"/>\n<text text-anchor=\"middle\" x=\"184.5\" y=\"-233.8\" font-family=\"Times,serif\" font-size=\"14.00\">InputLayer</text>\n</g>\n<!-- 140330945503872 -->\n<g id=\"node2\" class=\"node\">\n<title>140330945503872</title>\n<polygon fill=\"none\" stroke=\"black\" points=\"39.5,-146.5 39.5,-182.5 192.5,-182.5 192.5,-146.5 39.5,-146.5\"/>\n<text text-anchor=\"middle\" x=\"85.5\" y=\"-160.8\" font-family=\"Times,serif\" font-size=\"14.00\">dense_224</text>\n<polyline fill=\"none\" stroke=\"black\" points=\"131.5,-146.5 131.5,-182.5 \"/>\n<text text-anchor=\"middle\" x=\"162\" y=\"-160.8\" font-family=\"Times,serif\" font-size=\"14.00\">Dense</text>\n</g>\n<!-- 140330945505552&#45;&gt;140330945503872 -->\n<g id=\"edge1\" class=\"edge\">\n<title>140330945505552-&gt;140330945503872</title>\n<path fill=\"none\" stroke=\"black\" d=\"M116,-219.31C116,-211.29 116,-201.55 116,-192.57\"/>\n<polygon fill=\"black\" stroke=\"black\" points=\"119.5,-192.53 116,-182.53 112.5,-192.53 119.5,-192.53\"/>\n</g>\n<!-- 140330945505648 -->\n<g id=\"node3\" class=\"node\">\n<title>140330945505648</title>\n<polygon fill=\"none\" stroke=\"black\" points=\"39.5,-73.5 39.5,-109.5 192.5,-109.5 192.5,-73.5 39.5,-73.5\"/>\n<text text-anchor=\"middle\" x=\"85.5\" y=\"-87.8\" font-family=\"Times,serif\" font-size=\"14.00\">dense_225</text>\n<polyline fill=\"none\" stroke=\"black\" points=\"131.5,-73.5 131.5,-109.5 \"/>\n<text text-anchor=\"middle\" x=\"162\" y=\"-87.8\" font-family=\"Times,serif\" font-size=\"14.00\">Dense</text>\n</g>\n<!-- 140330945503872&#45;&gt;140330945505648 -->\n<g id=\"edge2\" class=\"edge\">\n<title>140330945503872-&gt;140330945505648</title>\n<path fill=\"none\" stroke=\"black\" d=\"M116,-146.31C116,-138.29 116,-128.55 116,-119.57\"/>\n<polygon fill=\"black\" stroke=\"black\" points=\"119.5,-119.53 116,-109.53 112.5,-119.53 119.5,-119.53\"/>\n</g>\n<!-- 140330903849664 -->\n<g id=\"node4\" class=\"node\">\n<title>140330903849664</title>\n<polygon fill=\"none\" stroke=\"black\" points=\"39.5,-0.5 39.5,-36.5 192.5,-36.5 192.5,-0.5 39.5,-0.5\"/>\n<text text-anchor=\"middle\" x=\"85.5\" y=\"-14.8\" font-family=\"Times,serif\" font-size=\"14.00\">dense_226</text>\n<polyline fill=\"none\" stroke=\"black\" points=\"131.5,-0.5 131.5,-36.5 \"/>\n<text text-anchor=\"middle\" x=\"162\" y=\"-14.8\" font-family=\"Times,serif\" font-size=\"14.00\">Dense</text>\n</g>\n<!-- 140330945505648&#45;&gt;140330903849664 -->\n<g id=\"edge3\" class=\"edge\">\n<title>140330945505648-&gt;140330903849664</title>\n<path fill=\"none\" stroke=\"black\" d=\"M116,-73.31C116,-65.29 116,-55.55 116,-46.57\"/>\n<polygon fill=\"black\" stroke=\"black\" points=\"119.5,-46.53 116,-36.53 112.5,-46.53 119.5,-46.53\"/>\n</g>\n</g>\n</svg>"
     },
     "execution_count": 14,
     "metadata": {},
     "output_type": "execute_result"
    }
   ],
   "source": [
    "# Visualize network architecture\n",
    "SVG(model_to_dot(network, show_shapes=False).create(prog='dot', format='svg'))"
   ],
   "metadata": {
    "collapsed": false,
    "pycharm": {
     "name": "#%%\n"
    }
   }
  }
 ],
 "metadata": {
  "kernelspec": {
   "display_name": "Python 3",
   "language": "python",
   "name": "python3"
  },
  "language_info": {
   "codemirror_mode": {
    "name": "ipython",
    "version": 2
   },
   "file_extension": ".py",
   "mimetype": "text/x-python",
   "name": "python",
   "nbconvert_exporter": "python",
   "pygments_lexer": "ipython2",
   "version": "2.7.6"
  }
 },
 "nbformat": 4,
 "nbformat_minor": 0
}